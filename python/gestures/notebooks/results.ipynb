{
 "cells": [
  {
   "cell_type": "code",
   "execution_count": 4,
   "metadata": {},
   "outputs": [],
   "source": [
    "\n",
    "import os\n",
    "import numpy as np\n",
    "import torch\n",
    "import sys\n",
    "import matplotlib.pyplot as plt\n",
    "from scipy.fftpack import fft, fftshift\n",
    "sys.path.insert(0, os.path.abspath(os.path.join(os.path.dirname(__vsc_ipynb_file__), '../../')))\n",
    "from gestures import config11 as cfg\n",
    "from gestures.data_loader.tiny_data_loader import get_tiny_data_loader\n"
   ]
  },
  {
   "cell_type": "code",
   "execution_count": 2,
   "metadata": {},
   "outputs": [],
   "source": [
    "\n",
    "def doppler_map(x: np.ndarray, ax: int = 1) -> np.ndarray:\n",
    "    \"\"\"input shape is (N,doppler_points,range_points)\"\"\"\n",
    "    if ax == 1:\n",
    "        assert x.ndim == 3, f\"ax is {ax} so data must be 3D\"\n",
    "    if ax == 0:\n",
    "        assert x.ndim == 2, f\"ax is {ax} so data must be 2D\"\n",
    "    return np.abs(fftshift(fft(x, axis=ax), axes=ax))\n",
    "\n",
    "\n",
    "def show_res(res:dict, num:int):\n",
    "    high_res = res['true'][0][num].detach().numpy()\n",
    "    high_res_l1 = res['pred_l1_loss'][0][num].detach().numpy()\n",
    "    high_res_ms = res['pred_ms_loss'][0][num].detach().numpy()\n",
    "    doppler_l1 = doppler_map(high_res_l1[0] + 1j * high_res_l1[1], ax=0)\n",
    "    doppler_ms = doppler_map(high_res_ms[0] + 1j * high_res_ms[1], ax=0)\n",
    "    doppler_true = doppler_map(high_res[0] + 1j * high_res[1], ax=0)\n",
    "    plt.figure(figsize=(20, 20))\n",
    "    plt.imshow(doppler_true)\n",
    "    plt.title(\"True\")\n",
    "    plt.figure(figsize=(20, 20))\n",
    "\n",
    "    plt.imshow(doppler_l1)\n",
    "    plt.title(\"L1\")\n",
    "    plt.figure(figsize=(20, 20))\n",
    "\n",
    "    plt.imshow(doppler_ms)\n",
    "    plt.title(\"MS\")\n",
    "    \n",
    "    mse_l1 = np.mean(np.square(high_res_l1 - high_res))\n",
    "    mse_ms = np.mean(np.square(high_res_ms - high_res))\n",
    "    print(f\"L2 loss L1: {mse_l1}\")\n",
    "    print(f\"L2 loss MS: {mse_ms}\")\n",
    "    \n"
   ]
  },
  {
   "cell_type": "code",
   "execution_count": 5,
   "metadata": {},
   "outputs": [
    {
     "name": "stdout",
     "output_type": "stream",
     "text": [
      "loading data with 8 cpu cores\n"
     ]
    }
   ],
   "source": [
    "from gestures.main import get_pc_cgf\n",
    "\n",
    "\n",
    "pc = cfg.pc\n",
    "data_dir, output_dir, device = get_pc_cgf(pc)\n",
    "\n",
    "# getting data loaders\n",
    "data_cfg = cfg.data_cfg\n",
    "data_preprocessing_cfg = cfg.data_preprocessing_cfg\n",
    "trainloader, valloader,ttt = get_tiny_data_loader(\n",
    "    data_dir=data_dir,\n",
    "    data_scg=data_cfg,\n",
    "    data_preprocessing_cfg=data_preprocessing_cfg,\n",
    "    use_pool=False,\n",
    "    batch_size=cfg.batch_size,\n",
    ")"
   ]
  },
  {
   "cell_type": "code",
   "execution_count": 4,
   "metadata": {},
   "outputs": [
    {
     "data": {
      "text/plain": [
       "torch.Size([10, 5, 2, 2, 32, 492])"
      ]
     },
     "execution_count": 4,
     "metadata": {},
     "output_type": "execute_result"
    }
   ],
   "source": [
    "for x,y in trainloader:\n",
    "    break\n",
    "y[0].shape"
   ]
  },
  {
   "cell_type": "code",
   "execution_count": 14,
   "metadata": {},
   "outputs": [
    {
     "data": {
      "text/plain": [
       "torch.Size([10, 5, 2, 2, 8, 123])"
      ]
     },
     "execution_count": 14,
     "metadata": {},
     "output_type": "execute_result"
    }
   ],
   "source": [
    "x.shape"
   ]
  },
  {
   "cell_type": "code",
   "execution_count": 22,
   "metadata": {},
   "outputs": [
    {
     "data": {
      "text/plain": [
       "<matplotlib.image.AxesImage at 0x2acb5d460>"
      ]
     },
     "execution_count": 22,
     "metadata": {},
     "output_type": "execute_result"
    },
    {
     "data": {
      "image/png": "[encoded data removed]",
      "text/plain": [
       "<Figure size 2000x2000 with 1 Axes>"
      ]
     },
     "metadata": {},
     "output_type": "display_data"
    }
   ],
   "source": [
    "img = y[0][6,0,0].numpy()\n",
    "plt.figure(figsize=(20, 20))\n",
    "plt.imshow(doppler_map(img[0]+1j*img[1], ax=0))"
   ]
  },
  {
   "cell_type": "code",
   "execution_count": 11,
   "metadata": {},
   "outputs": [],
   "source": [
    "from gestures.network.models.basic_model import BasicModel\n",
    "path_l1 = \"/Users/netanelblumenfeld/Desktop/bgu/Msc/code/outputs/sr/Drln_2_loss_L1_1/ds_4_original_dim_False_pix_norm_Normalization.Range_0_1/2024-02-09_15:03:43/model/loss.pth\"\n",
    "path_l1_msssim = \"/Users/netanelblumenfeld/Desktop/bgu/Msc/code/outputs/sr/Drln_2_loss_L1_0.5_MsssimLoss_0.5/ds_4_original_dim_False_pix_norm_Normalization.Range_0_1/2024-02-06_08:51:42/model/loss.pth\"\n",
    "model_l1,*_ = BasicModel.load_model(device,path_l1)\n",
    "model_l1_msssim,*_ = BasicModel.load_model(device,path_l1_msssim)"
   ]
  },
  {
   "cell_type": "code",
   "execution_count": 23,
   "metadata": {},
   "outputs": [],
   "source": [
    "model_l1.eval()\n",
    "res_l1 = model_l1(x[6,0])"
   ]
  },
  {
   "cell_type": "code",
   "execution_count": 24,
   "metadata": {},
   "outputs": [
    {
     "data": {
      "text/plain": [
       "<matplotlib.image.AxesImage at 0x2acc792e0>"
      ]
     },
     "execution_count": 24,
     "metadata": {},
     "output_type": "execute_result"
    },
    {
     "data": {
      "image/png": "[encoded data removed]",
      "text/plain": [
       "<Figure size 2000x2000 with 1 Axes>"
      ]
     },
     "metadata": {},
     "output_type": "display_data"
    }
   ],
   "source": [
    "imgr = res_l1[0].detach().numpy()\n",
    "plt.figure(figsize=(20, 20))\n",
    "plt.imshow(doppler_map(imgr[0]+1j*imgr[1], ax=0))"
   ]
  },
  {
   "cell_type": "code",
   "execution_count": 28,
   "metadata": {},
   "outputs": [
    {
     "data": {
      "text/plain": [
       "<matplotlib.image.AxesImage at 0x317195c70>"
      ]
     },
     "execution_count": 28,
     "metadata": {},
     "output_type": "execute_result"
    },
    {
     "data": {
      "image/png": "[encoded data removed]",
      "text/plain": [
       "<Figure size 2000x2000 with 1 Axes>"
      ]
     },
     "metadata": {},
     "output_type": "display_data"
    }
   ],
   "source": [
    "model_l1_msssim.eval()\n",
    "res_l1_msssim = model_l1_msssim(x[6,0])\n",
    "imgr = res_l1_msssim[0].detach().numpy()\n",
    "plt.figure(figsize=(20, 20))\n",
    "plt.imshow(doppler_map(imgr[0]+1j*imgr[1], ax=0))"
   ]
  },
  {
   "cell_type": "code",
   "execution_count": 5,
   "metadata": {},
   "outputs": [
    {
     "name": "stdout",
     "output_type": "stream",
     "text": [
      "0.20212459357838525 0.07520895775377266\n"
     ]
    }
   ],
   "source": [
    "\n",
    "\n",
    "from gestures.network.models.super_resolution.drln import Drln\n",
    "\n",
    "\n",
    "path_ms = \"/Users/netanelblumenfeld/Desktop/bgu/Msc/4090/Radar/outputs/models/sr/Drln_2/lr_0.0018_batch_size_64_loss_MSSSIML1/2024-01-15_17:03:18fffmin_loss_model.pt\"\n",
    "path_l1 = \"/Users/netanelblumenfeld/Desktop/bgu/Msc/4090/Radar/outputs/models/sr/Drln_2/ds_4_original_dim_False_pix_norm_Normalization.Range_0_1/lr_0.0015_batch_size_64_loss_L1/2024-01-11_14:43:43min_loss_model.pt\"\n",
    "optimizeer = torch.optim.Adam\n",
    "drln = Drln\n",
    "args = {'num_drln_blocks' : 2, 'scale': 4, 'num_channels':  2}\n",
    "model_ms,a,b,ms = drln.load_model(path_ms, optimizeer, {'lr':0.001},device=device, **args)\n",
    "model_l1,a,b,l1 = drln.load_model(path_l1, optimizeer, {'lr':0.001},device=device, **args)\n",
    "model_ms.eval()\n",
    "model_l1.eval()\n",
    "\n",
    "print(ms,l1)\n"
   ]
  },
  {
   "cell_type": "code",
   "execution_count": 3,
   "metadata": {},
   "outputs": [
    {
     "name": "stdout",
     "output_type": "stream",
     "text": [
      "SAFMN(\n",
      "  (to_feat): Conv2d(2, 36, kernel_size=(3, 3), stride=(1, 1), padding=(1, 1))\n",
      "  (feats): Sequential(\n",
      "    (0): AttBlock(\n",
      "      (norm1): LayerNorm()\n",
      "      (norm2): LayerNorm()\n",
      "      (safm): SAFM(\n",
      "        (mfr): ModuleList(\n",
      "          (0-3): 4 x Conv2d(9, 9, kernel_size=(3, 3), stride=(1, 1), padding=(1, 1), groups=9)\n",
      "        )\n",
      "        (aggr): Conv2d(36, 36, kernel_size=(1, 1), stride=(1, 1))\n",
      "        (act): GELU(approximate='none')\n",
      "      )\n",
      "      (ccm): CCM(\n",
      "        (ccm): Sequential(\n",
      "          (0): Conv2d(36, 72, kernel_size=(3, 3), stride=(1, 1), padding=(1, 1))\n",
      "          (1): GELU(approximate='none')\n",
      "          (2): Conv2d(72, 36, kernel_size=(1, 1), stride=(1, 1))\n",
      "        )\n",
      "      )\n",
      "    )\n",
      "    (1): AttBlock(\n",
      "      (norm1): LayerNorm()\n",
      "      (norm2): LayerNorm()\n",
      "      (safm): SAFM(\n",
      "        (mfr): ModuleList(\n",
      "          (0-3): 4 x Conv2d(9, 9, kernel_size=(3, 3), stride=(1, 1), padding=(1, 1), groups=9)\n",
      "        )\n",
      "        (aggr): Conv2d(36, 36, kernel_size=(1, 1), stride=(1, 1))\n",
      "        (act): GELU(approximate='none')\n",
      "      )\n",
      "      (ccm): CCM(\n",
      "        (ccm): Sequential(\n",
      "          (0): Conv2d(36, 72, kernel_size=(3, 3), stride=(1, 1), padding=(1, 1))\n",
      "          (1): GELU(approximate='none')\n",
      "          (2): Conv2d(72, 36, kernel_size=(1, 1), stride=(1, 1))\n",
      "        )\n",
      "      )\n",
      "    )\n",
      "    (2): AttBlock(\n",
      "      (norm1): LayerNorm()\n",
      "      (norm2): LayerNorm()\n",
      "      (safm): SAFM(\n",
      "        (mfr): ModuleList(\n",
      "          (0-3): 4 x Conv2d(9, 9, kernel_size=(3, 3), stride=(1, 1), padding=(1, 1), groups=9)\n",
      "        )\n",
      "        (aggr): Conv2d(36, 36, kernel_size=(1, 1), stride=(1, 1))\n",
      "        (act): GELU(approximate='none')\n",
      "      )\n",
      "      (ccm): CCM(\n",
      "        (ccm): Sequential(\n",
      "          (0): Conv2d(36, 72, kernel_size=(3, 3), stride=(1, 1), padding=(1, 1))\n",
      "          (1): GELU(approximate='none')\n",
      "          (2): Conv2d(72, 36, kernel_size=(1, 1), stride=(1, 1))\n",
      "        )\n",
      "      )\n",
      "    )\n",
      "    (3): AttBlock(\n",
      "      (norm1): LayerNorm()\n",
      "      (norm2): LayerNorm()\n",
      "      (safm): SAFM(\n",
      "        (mfr): ModuleList(\n",
      "          (0-3): 4 x Conv2d(9, 9, kernel_size=(3, 3), stride=(1, 1), padding=(1, 1), groups=9)\n",
      "        )\n",
      "        (aggr): Conv2d(36, 36, kernel_size=(1, 1), stride=(1, 1))\n",
      "        (act): GELU(approximate='none')\n",
      "      )\n",
      "      (ccm): CCM(\n",
      "        (ccm): Sequential(\n",
      "          (0): Conv2d(36, 72, kernel_size=(3, 3), stride=(1, 1), padding=(1, 1))\n",
      "          (1): GELU(approximate='none')\n",
      "          (2): Conv2d(72, 36, kernel_size=(1, 1), stride=(1, 1))\n",
      "        )\n",
      "      )\n",
      "    )\n",
      "    (4): AttBlock(\n",
      "      (norm1): LayerNorm()\n",
      "      (norm2): LayerNorm()\n",
      "      (safm): SAFM(\n",
      "        (mfr): ModuleList(\n",
      "          (0-3): 4 x Conv2d(9, 9, kernel_size=(3, 3), stride=(1, 1), padding=(1, 1), groups=9)\n",
      "        )\n",
      "        (aggr): Conv2d(36, 36, kernel_size=(1, 1), stride=(1, 1))\n",
      "        (act): GELU(approximate='none')\n",
      "      )\n",
      "      (ccm): CCM(\n",
      "        (ccm): Sequential(\n",
      "          (0): Conv2d(36, 72, kernel_size=(3, 3), stride=(1, 1), padding=(1, 1))\n",
      "          (1): GELU(approximate='none')\n",
      "          (2): Conv2d(72, 36, kernel_size=(1, 1), stride=(1, 1))\n",
      "        )\n",
      "      )\n",
      "    )\n",
      "    (5): AttBlock(\n",
      "      (norm1): LayerNorm()\n",
      "      (norm2): LayerNorm()\n",
      "      (safm): SAFM(\n",
      "        (mfr): ModuleList(\n",
      "          (0-3): 4 x Conv2d(9, 9, kernel_size=(3, 3), stride=(1, 1), padding=(1, 1), groups=9)\n",
      "        )\n",
      "        (aggr): Conv2d(36, 36, kernel_size=(1, 1), stride=(1, 1))\n",
      "        (act): GELU(approximate='none')\n",
      "      )\n",
      "      (ccm): CCM(\n",
      "        (ccm): Sequential(\n",
      "          (0): Conv2d(36, 72, kernel_size=(3, 3), stride=(1, 1), padding=(1, 1))\n",
      "          (1): GELU(approximate='none')\n",
      "          (2): Conv2d(72, 36, kernel_size=(1, 1), stride=(1, 1))\n",
      "        )\n",
      "      )\n",
      "    )\n",
      "    (6): AttBlock(\n",
      "      (norm1): LayerNorm()\n",
      "      (norm2): LayerNorm()\n",
      "      (safm): SAFM(\n",
      "        (mfr): ModuleList(\n",
      "          (0-3): 4 x Conv2d(9, 9, kernel_size=(3, 3), stride=(1, 1), padding=(1, 1), groups=9)\n",
      "        )\n",
      "        (aggr): Conv2d(36, 36, kernel_size=(1, 1), stride=(1, 1))\n",
      "        (act): GELU(approximate='none')\n",
      "      )\n",
      "      (ccm): CCM(\n",
      "        (ccm): Sequential(\n",
      "          (0): Conv2d(36, 72, kernel_size=(3, 3), stride=(1, 1), padding=(1, 1))\n",
      "          (1): GELU(approximate='none')\n",
      "          (2): Conv2d(72, 36, kernel_size=(1, 1), stride=(1, 1))\n",
      "        )\n",
      "      )\n",
      "    )\n",
      "    (7): AttBlock(\n",
      "      (norm1): LayerNorm()\n",
      "      (norm2): LayerNorm()\n",
      "      (safm): SAFM(\n",
      "        (mfr): ModuleList(\n",
      "          (0-3): 4 x Conv2d(9, 9, kernel_size=(3, 3), stride=(1, 1), padding=(1, 1), groups=9)\n",
      "        )\n",
      "        (aggr): Conv2d(36, 36, kernel_size=(1, 1), stride=(1, 1))\n",
      "        (act): GELU(approximate='none')\n",
      "      )\n",
      "      (ccm): CCM(\n",
      "        (ccm): Sequential(\n",
      "          (0): Conv2d(36, 72, kernel_size=(3, 3), stride=(1, 1), padding=(1, 1))\n",
      "          (1): GELU(approximate='none')\n",
      "          (2): Conv2d(72, 36, kernel_size=(1, 1), stride=(1, 1))\n",
      "        )\n",
      "      )\n",
      "    )\n",
      "  )\n",
      "  (to_img): Sequential(\n",
      "    (0): Conv2d(36, 32, kernel_size=(3, 3), stride=(1, 1), padding=(1, 1))\n",
      "    (1): PixelShuffle(upscale_factor=4)\n",
      "  )\n",
      ")\n",
      "params: 233996\n",
      "torch.Size([1, 2, 1280, 720])\n"
     ]
    }
   ],
   "source": [
    "# x = torch.randn(1, 3, 427, 240)\n",
    "from gestures.network.models.super_resolution.safmn import SAFMN\n",
    "\n",
    "\n",
    "x = torch.randn(1, 2, 320, 180)\n",
    "# x = torch.randn(1, 3, 256, 256)\n",
    "\n",
    "model = SAFMN(dim=36, n_blocks=8, ffn_scale=2.0, upscaling_factor=4)\n",
    "# model = SAFMN(dim=36, n_blocks=12, ffn_scale=2.0, upscaling_factor=2)\n",
    "print(model)\n",
    "print(f\"params: {sum(map(lambda x: x.numel(), model.parameters()))}\")\n",
    "output = model(x)\n",
    "print(output.shape)\n"
   ]
  }
 ],
 "metadata": {
  "kernelspec": {
   "display_name": "radar",
   "language": "python",
   "name": "python3"
  },
  "language_info": {
   "codemirror_mode": {
    "name": "ipython",
    "version": 3
   },
   "file_extension": ".py",
   "mimetype": "text/x-python",
   "name": "python",
   "nbconvert_exporter": "python",
   "pygments_lexer": "ipython3",
   "version": "3.9.18"
  }
 },
 "nbformat": 4,
 "nbformat_minor": 2
}

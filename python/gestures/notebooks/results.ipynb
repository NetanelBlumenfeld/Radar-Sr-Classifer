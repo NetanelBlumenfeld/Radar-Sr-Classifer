{
 "cells": [
  {
   "cell_type": "code",
   "execution_count": 1,
   "metadata": {},
   "outputs": [],
   "source": [
    "import os\n",
    "import cv2\n",
    "import os\n",
    "import numpy as np\n",
    "import torch\n",
    "import sys\n",
    "import matplotlib.pyplot as plt\n",
    "from scipy.fftpack import fft, fftshift\n",
    "sys.path.insert(0, os.path.abspath(os.path.join(os.path.dirname(__vsc_ipynb_file__), '../../')))\n",
    "import torch\n",
    "from gestures.configs import new_config as cfg1\n",
    "# from gestures.data_loader1.load import get_data_loader\n",
    "\n",
    "# from gestures.data_loader.tiny_data_loader import get_tiny_data_loader\n",
    "# from gestures.network.runner import Runner\n",
    "from gestures.setup import setup_callbacks, setup_model\n",
    "\n",
    "\n"
   ]
  },
  {
   "cell_type": "code",
   "execution_count": 2,
   "metadata": {},
   "outputs": [],
   "source": [
    "from gestures.data_loader2.dataset_factory import *\n",
    "from gestures.utils_processing_data import *\n",
    "files = os.listdir(\"/Users/netanelblumenfeld/Downloads/11G/tt\")\n",
    "gestures = [\n",
    "    \"PinchIndex\",\n",
    "    \"PinchPinky\",\n",
    "    \"FingerSlider\",\n",
    "    \"FingerRub\",\n",
    "    \"SlowSwipeRL\",\n",
    "    \"FastSwipeRL\",\n",
    "    \"Push\",\n",
    "    \"Pull\",\n",
    "    \"PalmTilt\",\n",
    "    \"Circle\",\n",
    "    \"PalmHold\",\n",
    "    \"NoHand\",\n",
    "]\n",
    "base_dir = \"/Users/netanelblumenfeld/Downloads/11G/tt\"\n",
    "data_loader = get_data_loader(\"sr_classifier\", files, 6, gestures, base_dir)\n"
   ]
  },
  {
   "cell_type": "code",
   "execution_count": 4,
   "metadata": {},
   "outputs": [
    {
     "name": "stdout",
     "output_type": "stream",
     "text": [
      "torch.Size([6, 5, 2, 2, 8, 123])\n",
      "torch.Size([6, 5, 2, 2, 32, 492])\n"
     ]
    }
   ],
   "source": [
    "for x,y in data_loader:\n",
    "    print(x.shape)\n",
    "    print(y[0].shape)\n",
    "    break"
   ]
  },
  {
   "cell_type": "code",
   "execution_count": 5,
   "metadata": {},
   "outputs": [],
   "source": [
    "img = y[0]\n",
    "img = RealToComplexBatch()(img)\n",
    "img1 = NormalizeBatch1()(img)\n",
    "img2 = NormalizeBatch()(img)"
   ]
  },
  {
   "cell_type": "code",
   "execution_count": 20,
   "metadata": {},
   "outputs": [],
   "source": [
    "img.shape\n",
    "img1 = img.reshape(60,2, 32, 492)\n",
    "img2 = img1.reshape(6,5,2, 2, 32, 492)"
   ]
  },
  {
   "cell_type": "code",
   "execution_count": 6,
   "metadata": {},
   "outputs": [
    {
     "data": {
      "text/plain": [
       "True"
      ]
     },
     "execution_count": 6,
     "metadata": {},
     "output_type": "execute_result"
    }
   ],
   "source": [
    "torch.equal(img2,img2)"
   ]
  },
  {
   "cell_type": "code",
   "execution_count": null,
   "metadata": {},
   "outputs": [],
   "source": []
  }
 ],
 "metadata": {
  "kernelspec": {
   "display_name": "radar",
   "language": "python",
   "name": "python3"
  },
  "language_info": {
   "codemirror_mode": {
    "name": "ipython",
    "version": 3
   },
   "file_extension": ".py",
   "mimetype": "text/x-python",
   "name": "python",
   "nbconvert_exporter": "python",
   "pygments_lexer": "ipython3",
   "version": "3.12.3"
  }
 },
 "nbformat": 4,
 "nbformat_minor": 2
}
